{
  "nbformat": 4,
  "nbformat_minor": 0,
  "metadata": {
    "colab": {
      "name": "recognition of animals(project2).ipynb",
      "private_outputs": true,
      "provenance": [],
      "collapsed_sections": []
    },
    "kernelspec": {
      "name": "python3",
      "display_name": "Python 3"
    },
    "language_info": {
      "name": "python"
    }
  },
  "cells": [
    {
      "cell_type": "code",
      "metadata": {
        "id": "07SUN-IIdhw5"
      },
      "source": [
        "import tensorflow as tf\n",
        "from keras.utils import np_utils\n",
        "from matplotlib import pyplot as plt\n",
        "import numpy as np"
      ],
      "execution_count": null,
      "outputs": []
    },
    {
      "cell_type": "code",
      "metadata": {
        "id": "ESxDEicNeHF8"
      },
      "source": [
        "#LOADING THE DATA \n",
        "(X_train, y_train), (X_test, y_test) = tf.keras.datasets.cifar10.load_data()"
      ],
      "execution_count": null,
      "outputs": []
    },
    {
      "cell_type": "code",
      "metadata": {
        "id": "o8AfeeENeiYw"
      },
      "source": [
        "print('Training Images: {}'.format(X_train.shape))\n",
        "print('Testing Images: {}'.format(X_test.shape))"
      ],
      "execution_count": null,
      "outputs": []
    },
    {
      "cell_type": "code",
      "metadata": {
        "id": "ue7Xgd9FfHjK"
      },
      "source": [
        "print(X_train[0].shape)"
      ],
      "execution_count": null,
      "outputs": []
    },
    {
      "cell_type": "code",
      "metadata": {
        "id": "7fbpcWEpfQ2Q"
      },
      "source": [
        "for i in range(332,336):\n",
        "  #plt.subplot(120+ 1 +i)\n",
        "  plt.figure(figsize=(3,3))\n",
        "  img=X_train[i]\n",
        "  plt.imshow(img)\n",
        "  print(y_train[i])\n",
        "  plt.show()"
      ],
      "execution_count": null,
      "outputs": []
    },
    {
      "cell_type": "code",
      "metadata": {
        "id": "AY1W9FZ_g4u5"
      },
      "source": [
        "X_train=X_train.reshape(X_train.shape[0], 32, 32, 3)\n",
        "X_test=X_test.reshape(X_test.shape[0], 32, 32, 3)\n",
        "X_train=X_train.astype('float32')\n",
        "X_test=X_test.astype('float32')\n",
        "\n",
        "X_train /=255\n",
        "X_test=X_test/255\n",
        "n_classes=10\n",
        "\n",
        "print(\"Shape before one-hot encoding: \", y_train.shape)\n",
        "#Y_train=np_utils.to_categorical(y_train,n_classes)\n",
        "#Y_test=np_utils.to_categorical(y_test,n_classes)\n",
        "print(\"Shape after one-hot encoding: \",Y_train.shape)"
      ],
      "execution_count": null,
      "outputs": []
    },
    {
      "cell_type": "code",
      "metadata": {
        "id": "XlYukgPmh4M1"
      },
      "source": [
        "#BULIDING MODEL\n",
        "\n",
        "from keras.models import Sequential\n",
        "from keras.layers import Dense, Dropout, Conv2D, MaxPool2D, Flatten\n",
        "\n",
        "model=Sequential()\n",
        "model.add(Conv2D(50, kernel_size=(3,3), strides=(1,1), padding='same', activation='relu', input_shape=(32 ,32, 3)))\n",
        "\n",
        "model.add(Conv2D(75, kernel_size=(3,3), strides=(1,1), padding='same', activation='relu'))\n",
        "model.add(MaxPool2D(pool_size=(2,2)))\n",
        "model.add(Dropout(0.25))\n",
        "\n",
        "model.add(Conv2D(125, kernel_size=(3,3), strides=(1,1), padding='same', activation='relu'))\n",
        "model.add(MaxPool2D(pool_size=(2,2)))\n",
        "model.add(Dropout(0.25))\n",
        "\n",
        "model.add(Flatten())\n",
        "\n",
        "#HIDDEN LAYERS\n",
        "model.add(Dense(500, activation='relu'))\n",
        "model.add(Dropout(0.4))\n",
        "model.add(Dense(250, activation='relu'))\n",
        "model.add(Dropout(0.3))\n",
        "\n",
        "#OUTPUT LAYER\n",
        "model.add(Dense(10, activation='softmax'))\n",
        "\n",
        "#COMPILE\n",
        "model.compile(loss='categorical_crossentropy', metrics=['accuracy'], optimizer='adam')\n",
        "\n",
        "#TRAINING  MODEL\n",
        "model.fit(X_train, Y_train, batch_size=128, epochs=10)\n",
        "\n",
        "\n",
        "\n"
      ],
      "execution_count": null,
      "outputs": []
    },
    {
      "cell_type": "code",
      "metadata": {
        "id": "FuP8Zg_ClG1c"
      },
      "source": [
        "#PREDICTING\n",
        "\n",
        "classes=range(0,10)\n",
        "names=['airplane',\n",
        "       'automobile',\n",
        "       'bird',\n",
        "       'cat',\n",
        "       'deer',\n",
        "       'dog',\n",
        "       'frog',\n",
        "       'horse',\n",
        "       'ship',\n",
        "       'truck']\n",
        "\n",
        "#ZIPPING\n",
        "class_labels=dict(zip(classes, names))\n",
        "\n",
        "batch=X_test[100:109]\n",
        "labels=np.argmax(Y_test[100:109],axis=-1)\n",
        "\n",
        "#PREDICTIONS\n",
        "\n",
        "predictions=model.predict(batch, verbose=1)\n"
      ],
      "execution_count": null,
      "outputs": []
    },
    {
      "cell_type": "code",
      "metadata": {
        "id": "Dmcr0hUmmBZW"
      },
      "source": [
        "print(predictions)"
      ],
      "execution_count": null,
      "outputs": []
    },
    {
      "cell_type": "code",
      "metadata": {
        "id": "TAx1Xg46mNbo"
      },
      "source": [
        "for image in predictions:\n",
        "  print(np.sum(image))\n",
        "  "
      ],
      "execution_count": null,
      "outputs": []
    },
    {
      "cell_type": "code",
      "metadata": {
        "id": "a-ygBMammdMc"
      },
      "source": [
        "class_result=np.argmax(predictions,axis=-1)\n",
        "print(class_result)\n"
      ],
      "execution_count": null,
      "outputs": []
    },
    {
      "cell_type": "code",
      "metadata": {
        "id": "Lqtpcs93mr0v"
      },
      "source": [
        "#FINAL PREDICTION\n",
        "\n",
        "fig, axs=plt.subplots(3, 3, figsize=(19,6))\n",
        "fig.subplots_adjust(hspace = 1)\n",
        "axs=axs.flatten()\n",
        "\n",
        "for i, img in enumerate(batch):\n",
        "    for key, value in class_labels.items():\n",
        "      if class_result[i]==key:\n",
        "          title='Prediction: {}\\nActual: {}'.format(class_labels[key], class_labels[labels[i]])\n",
        "          axs[i].set_title(title)\n",
        "          axs[i].axes.get_xaxis().set_visible(False)\n",
        "          axs[i].axes.get_yaxis().set_visible(False)\n",
        "\n",
        "    \n",
        "    axs[i].imshow(img)\n",
        "\n",
        "plt.show()"
      ],
      "execution_count": null,
      "outputs": []
    }
  ]
}